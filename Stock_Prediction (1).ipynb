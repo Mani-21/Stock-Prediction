{
  "nbformat": 4,
  "nbformat_minor": 0,
  "metadata": {
    "colab": {
      "name": "Stock-Prediction.ipynb",
      "provenance": []
    },
    "kernelspec": {
      "name": "python3",
      "display_name": "Python 3"
    }
  },
  "cells": [
    {
      "cell_type": "code",
      "metadata": {
        "id": "B8WMDq7f-WwA"
      },
      "source": [
        "#import the required libraries\r\n",
        "import numpy as np\r\n",
        "import matplotlib.pyplot as plt\r\n",
        "import pandas as pd\r\n",
        "import pandas_datareader as web\r\n",
        "import datetime"
      ],
      "execution_count": 2,
      "outputs": []
    },
    {
      "cell_type": "code",
      "metadata": {
        "id": "P_HqPpvw-XmG",
        "colab": {
          "base_uri": "https://localhost:8080/"
        },
        "outputId": "326cec97-b644-44eb-80e8-52c4b669638e"
      },
      "source": [
        "#getting the data of google stock from web\r\n",
        "#create a dataset of the price of the stock that you want to predict\r\n",
        "#mention the ticker of the stock you want to analyse\r\n",
        "ticker = input(\"Enter the Ticker of the company : \" )\r\n",
        "dataset = web.DataReader(ticker,data_source='yahoo',start='2010-01-01', end='2020-12-31')\r\n"
      ],
      "execution_count": 22,
      "outputs": [
        {
          "output_type": "stream",
          "text": [
            "Enter the Ticker of the company : TSLA\n"
          ],
          "name": "stdout"
        }
      ]
    },
    {
      "cell_type": "code",
      "metadata": {
        "id": "qYoAmRKu-iFD",
        "colab": {
          "base_uri": "https://localhost:8080/",
          "height": 233
        },
        "outputId": "13e72f15-f899-4145-b358-e42e620ce805"
      },
      "source": [
        "dataset.head()\r\n"
      ],
      "execution_count": 23,
      "outputs": [
        {
          "output_type": "execute_result",
          "data": {
            "text/html": [
              "<div>\n",
              "<style scoped>\n",
              "    .dataframe tbody tr th:only-of-type {\n",
              "        vertical-align: middle;\n",
              "    }\n",
              "\n",
              "    .dataframe tbody tr th {\n",
              "        vertical-align: top;\n",
              "    }\n",
              "\n",
              "    .dataframe thead th {\n",
              "        text-align: right;\n",
              "    }\n",
              "</style>\n",
              "<table border=\"1\" class=\"dataframe\">\n",
              "  <thead>\n",
              "    <tr style=\"text-align: right;\">\n",
              "      <th></th>\n",
              "      <th>High</th>\n",
              "      <th>Low</th>\n",
              "      <th>Open</th>\n",
              "      <th>Close</th>\n",
              "      <th>Volume</th>\n",
              "      <th>Adj Close</th>\n",
              "    </tr>\n",
              "    <tr>\n",
              "      <th>Date</th>\n",
              "      <th></th>\n",
              "      <th></th>\n",
              "      <th></th>\n",
              "      <th></th>\n",
              "      <th></th>\n",
              "      <th></th>\n",
              "    </tr>\n",
              "  </thead>\n",
              "  <tbody>\n",
              "    <tr>\n",
              "      <th>2010-06-29</th>\n",
              "      <td>5.000</td>\n",
              "      <td>3.508</td>\n",
              "      <td>3.800</td>\n",
              "      <td>4.778</td>\n",
              "      <td>93831500.0</td>\n",
              "      <td>4.778</td>\n",
              "    </tr>\n",
              "    <tr>\n",
              "      <th>2010-06-30</th>\n",
              "      <td>6.084</td>\n",
              "      <td>4.660</td>\n",
              "      <td>5.158</td>\n",
              "      <td>4.766</td>\n",
              "      <td>85935500.0</td>\n",
              "      <td>4.766</td>\n",
              "    </tr>\n",
              "    <tr>\n",
              "      <th>2010-07-01</th>\n",
              "      <td>5.184</td>\n",
              "      <td>4.054</td>\n",
              "      <td>5.000</td>\n",
              "      <td>4.392</td>\n",
              "      <td>41094000.0</td>\n",
              "      <td>4.392</td>\n",
              "    </tr>\n",
              "    <tr>\n",
              "      <th>2010-07-02</th>\n",
              "      <td>4.620</td>\n",
              "      <td>3.742</td>\n",
              "      <td>4.600</td>\n",
              "      <td>3.840</td>\n",
              "      <td>25699000.0</td>\n",
              "      <td>3.840</td>\n",
              "    </tr>\n",
              "    <tr>\n",
              "      <th>2010-07-06</th>\n",
              "      <td>4.000</td>\n",
              "      <td>3.166</td>\n",
              "      <td>4.000</td>\n",
              "      <td>3.222</td>\n",
              "      <td>34334500.0</td>\n",
              "      <td>3.222</td>\n",
              "    </tr>\n",
              "  </tbody>\n",
              "</table>\n",
              "</div>"
            ],
            "text/plain": [
              "             High    Low   Open  Close      Volume  Adj Close\n",
              "Date                                                         \n",
              "2010-06-29  5.000  3.508  3.800  4.778  93831500.0      4.778\n",
              "2010-06-30  6.084  4.660  5.158  4.766  85935500.0      4.766\n",
              "2010-07-01  5.184  4.054  5.000  4.392  41094000.0      4.392\n",
              "2010-07-02  4.620  3.742  4.600  3.840  25699000.0      3.840\n",
              "2010-07-06  4.000  3.166  4.000  3.222  34334500.0      3.222"
            ]
          },
          "metadata": {
            "tags": []
          },
          "execution_count": 23
        }
      ]
    },
    {
      "cell_type": "code",
      "metadata": {
        "id": "pDvSmeSs-ikv",
        "colab": {
          "base_uri": "https://localhost:8080/"
        },
        "outputId": "a4b153ae-f89e-4e2d-caae-35c468011d21"
      },
      "source": [
        "dataset.info()"
      ],
      "execution_count": 24,
      "outputs": [
        {
          "output_type": "stream",
          "text": [
            "<class 'pandas.core.frame.DataFrame'>\n",
            "DatetimeIndex: 2647 entries, 2010-06-29 to 2020-12-31\n",
            "Data columns (total 6 columns):\n",
            " #   Column     Non-Null Count  Dtype  \n",
            "---  ------     --------------  -----  \n",
            " 0   High       2647 non-null   float64\n",
            " 1   Low        2647 non-null   float64\n",
            " 2   Open       2647 non-null   float64\n",
            " 3   Close      2647 non-null   float64\n",
            " 4   Volume     2647 non-null   float64\n",
            " 5   Adj Close  2647 non-null   float64\n",
            "dtypes: float64(6)\n",
            "memory usage: 144.8 KB\n"
          ],
          "name": "stdout"
        }
      ]
    },
    {
      "cell_type": "code",
      "metadata": {
        "colab": {
          "base_uri": "https://localhost:8080/",
          "height": 401
        },
        "id": "kC3tchSV_Q2k",
        "outputId": "6ede92d5-2138-4263-f127-885055dc9ae5"
      },
      "source": [
        "#visualize the opening price of google stock\r\n",
        "dataset['Open'].plot(figsize=(16,6))\r\n",
        "plt.xlabel('Time in years')\r\n",
        "plt.ylabel('Stock price in USD')\r\n",
        "plt.title('Opening price of '+ ticker)"
      ],
      "execution_count": 27,
      "outputs": [
        {
          "output_type": "execute_result",
          "data": {
            "text/plain": [
              "Text(0.5, 1.0, 'Opening price of TSLA')"
            ]
          },
          "metadata": {
            "tags": []
          },
          "execution_count": 27
        },
        {
          "output_type": "display_data",
          "data": {
            "image/png": "[encoded data removed]",
            "text/plain": [
              "<Figure size 1152x432 with 1 Axes>"
            ]
          },
          "metadata": {
            "tags": [],
            "needs_background": "light"
          }
        }
      ]
    },
    {
      "cell_type": "code",
      "metadata": {
        "colab": {
          "base_uri": "https://localhost:8080/",
          "height": 446
        },
        "id": "vrcc-bFK_th8",
        "outputId": "df267fa7-5c3e-4aa5-9d17-919c02b30100"
      },
      "source": [
        "# 21 day rolling mean\r\n",
        "# just the average for past 3 weeeks\r\n",
        "dataset.rolling(21).mean().head(100)"
      ],
      "execution_count": 28,
      "outputs": [
        {
          "output_type": "execute_result",
          "data": {
            "text/html": [
              "<div>\n",
              "<style scoped>\n",
              "    .dataframe tbody tr th:only-of-type {\n",
              "        vertical-align: middle;\n",
              "    }\n",
              "\n",
              "    .dataframe tbody tr th {\n",
              "        vertical-align: top;\n",
              "    }\n",
              "\n",
              "    .dataframe thead th {\n",
              "        text-align: right;\n",
              "    }\n",
              "</style>\n",
              "<table border=\"1\" class=\"dataframe\">\n",
              "  <thead>\n",
              "    <tr style=\"text-align: right;\">\n",
              "      <th></th>\n",
              "      <th>High</th>\n",
              "      <th>Low</th>\n",
              "      <th>Open</th>\n",
              "      <th>Close</th>\n",
              "      <th>Volume</th>\n",
              "      <th>Adj Close</th>\n",
              "    </tr>\n",
              "    <tr>\n",
              "      <th>Date</th>\n",
              "      <th></th>\n",
              "      <th></th>\n",
              "      <th></th>\n",
              "      <th></th>\n",
              "      <th></th>\n",
              "      <th></th>\n",
              "    </tr>\n",
              "  </thead>\n",
              "  <tbody>\n",
              "    <tr>\n",
              "      <th>2010-06-29</th>\n",
              "      <td>NaN</td>\n",
              "      <td>NaN</td>\n",
              "      <td>NaN</td>\n",
              "      <td>NaN</td>\n",
              "      <td>NaN</td>\n",
              "      <td>NaN</td>\n",
              "    </tr>\n",
              "    <tr>\n",
              "      <th>2010-06-30</th>\n",
              "      <td>NaN</td>\n",
              "      <td>NaN</td>\n",
              "      <td>NaN</td>\n",
              "      <td>NaN</td>\n",
              "      <td>NaN</td>\n",
              "      <td>NaN</td>\n",
              "    </tr>\n",
              "    <tr>\n",
              "      <th>2010-07-01</th>\n",
              "      <td>NaN</td>\n",
              "      <td>NaN</td>\n",
              "      <td>NaN</td>\n",
              "      <td>NaN</td>\n",
              "      <td>NaN</td>\n",
              "      <td>NaN</td>\n",
              "    </tr>\n",
              "    <tr>\n",
              "      <th>2010-07-02</th>\n",
              "      <td>NaN</td>\n",
              "      <td>NaN</td>\n",
              "      <td>NaN</td>\n",
              "      <td>NaN</td>\n",
              "      <td>NaN</td>\n",
              "      <td>NaN</td>\n",
              "    </tr>\n",
              "    <tr>\n",
              "      <th>2010-07-06</th>\n",
              "      <td>NaN</td>\n",
              "      <td>NaN</td>\n",
              "      <td>NaN</td>\n",
              "      <td>NaN</td>\n",
              "      <td>NaN</td>\n",
              "      <td>NaN</td>\n",
              "    </tr>\n",
              "    <tr>\n",
              "      <th>...</th>\n",
              "      <td>...</td>\n",
              "      <td>...</td>\n",
              "      <td>...</td>\n",
              "      <td>...</td>\n",
              "      <td>...</td>\n",
              "      <td>...</td>\n",
              "    </tr>\n",
              "    <tr>\n",
              "      <th>2010-11-11</th>\n",
              "      <td>4.574476</td>\n",
              "      <td>4.330095</td>\n",
              "      <td>4.424095</td>\n",
              "      <td>4.482952</td>\n",
              "      <td>3.339643e+06</td>\n",
              "      <td>4.482952</td>\n",
              "    </tr>\n",
              "    <tr>\n",
              "      <th>2010-11-12</th>\n",
              "      <td>4.664667</td>\n",
              "      <td>4.403143</td>\n",
              "      <td>4.493143</td>\n",
              "      <td>4.569524</td>\n",
              "      <td>3.919238e+06</td>\n",
              "      <td>4.569524</td>\n",
              "    </tr>\n",
              "    <tr>\n",
              "      <th>2010-11-15</th>\n",
              "      <td>4.779333</td>\n",
              "      <td>4.498095</td>\n",
              "      <td>4.582000</td>\n",
              "      <td>4.667238</td>\n",
              "      <td>4.475952e+06</td>\n",
              "      <td>4.667238</td>\n",
              "    </tr>\n",
              "    <tr>\n",
              "      <th>2010-11-16</th>\n",
              "      <td>4.881810</td>\n",
              "      <td>4.576190</td>\n",
              "      <td>4.681810</td>\n",
              "      <td>4.757143</td>\n",
              "      <td>4.758048e+06</td>\n",
              "      <td>4.757143</td>\n",
              "    </tr>\n",
              "    <tr>\n",
              "      <th>2010-11-17</th>\n",
              "      <td>4.980286</td>\n",
              "      <td>4.658191</td>\n",
              "      <td>4.777048</td>\n",
              "      <td>4.847048</td>\n",
              "      <td>4.878238e+06</td>\n",
              "      <td>4.847048</td>\n",
              "    </tr>\n",
              "  </tbody>\n",
              "</table>\n",
              "<p>100 rows × 6 columns</p>\n",
              "</div>"
            ],
            "text/plain": [
              "                High       Low      Open     Close        Volume  Adj Close\n",
              "Date                                                                       \n",
              "2010-06-29       NaN       NaN       NaN       NaN           NaN        NaN\n",
              "2010-06-30       NaN       NaN       NaN       NaN           NaN        NaN\n",
              "2010-07-01       NaN       NaN       NaN       NaN           NaN        NaN\n",
              "2010-07-02       NaN       NaN       NaN       NaN           NaN        NaN\n",
              "2010-07-06       NaN       NaN       NaN       NaN           NaN        NaN\n",
              "...              ...       ...       ...       ...           ...        ...\n",
              "2010-11-11  4.574476  4.330095  4.424095  4.482952  3.339643e+06   4.482952\n",
              "2010-11-12  4.664667  4.403143  4.493143  4.569524  3.919238e+06   4.569524\n",
              "2010-11-15  4.779333  4.498095  4.582000  4.667238  4.475952e+06   4.667238\n",
              "2010-11-16  4.881810  4.576190  4.681810  4.757143  4.758048e+06   4.757143\n",
              "2010-11-17  4.980286  4.658191  4.777048  4.847048  4.878238e+06   4.847048\n",
              "\n",
              "[100 rows x 6 columns]"
            ]
          },
          "metadata": {
            "tags": []
          },
          "execution_count": 28
        }
      ]
    },
    {
      "cell_type": "code",
      "metadata": {
        "colab": {
          "base_uri": "https://localhost:8080/",
          "height": 385
        },
        "id": "Zwql4aUHBu3Z",
        "outputId": "e0efc21c-be55-4e39-d33a-6d74fbd089fc"
      },
      "source": [
        "#comparing the above obtained values with actual results\r\n",
        "dataset['Open'].plot(figsize=(16,6))\r\n",
        "dataset.rolling(21).mean()['Close'].plot()"
      ],
      "execution_count": 29,
      "outputs": [
        {
          "output_type": "execute_result",
          "data": {
            "text/plain": [
              "<matplotlib.axes._subplots.AxesSubplot at 0x7f7e2d3b5c88>"
            ]
          },
          "metadata": {
            "tags": []
          },
          "execution_count": 29
        },
        {
          "output_type": "display_data",
          "data": {
            "image/png": "[encoded data removed]",
            "text/plain": [
              "<Figure size 1152x432 with 1 Axes>"
            ]
          },
          "metadata": {
            "tags": [],
            "needs_background": "light"
          }
        }
      ]
    },
    {
      "cell_type": "code",
      "metadata": {
        "id": "3khXF8wWCdzf"
      },
      "source": [
        "#create training-set\r\n",
        "training_set=dataset['Open']\r\n",
        "training_set=pd.DataFrame(training_set)"
      ],
      "execution_count": 30,
      "outputs": []
    },
    {
      "cell_type": "code",
      "metadata": {
        "id": "njDpwNbUC6Xu"
      },
      "source": [
        "# Feature Scaling\r\n",
        "from sklearn.preprocessing import MinMaxScaler\r\n",
        "sc = MinMaxScaler(feature_range = (0, 1))\r\n",
        "training_set_scaled = sc.fit_transform(training_set)"
      ],
      "execution_count": 31,
      "outputs": []
    },
    {
      "cell_type": "code",
      "metadata": {
        "id": "pirEfwPBDGGW"
      },
      "source": [
        "# Creating a training set containing values of past 2 months(x-set) and current day value (y-set) \r\n",
        "X_train = []\r\n",
        "y_train = []\r\n",
        "for i in range(60, len(dataset)):\r\n",
        "    X_train.append(training_set_scaled[i-60:i, 0])\r\n",
        "    y_train.append(training_set_scaled[i, 0])\r\n",
        "X_train, y_train = np.array(X_train), np.array(y_train)\r\n",
        "\r\n",
        "# Reshaping\r\n",
        "X_train = np.reshape(X_train, (X_train.shape[0], X_train.shape[1], 1))"
      ],
      "execution_count": 32,
      "outputs": []
    },
    {
      "cell_type": "code",
      "metadata": {
        "id": "zZcGK_FlEF4H"
      },
      "source": [
        "# Building the RNN\r\n",
        "\r\n",
        "# Importing the Keras libraries and packages\r\n",
        "from keras.models import Sequential\r\n",
        "from keras.layers import Dense\r\n",
        "from keras.layers import LSTM\r\n",
        "from keras.layers import Dropout\r\n",
        "\r\n",
        "# Initialising the RNN\r\n",
        "regressor = Sequential()"
      ],
      "execution_count": 33,
      "outputs": []
    },
    {
      "cell_type": "code",
      "metadata": {
        "id": "UdZlMJf4EPUy"
      },
      "source": [
        "# Adding the first LSTM layer and some Dropout regularisation\r\n",
        "regressor.add(LSTM(units = 50, return_sequences = True, input_shape = (X_train.shape[1], 1)))\r\n",
        "regressor.add(Dropout(0.2))\r\n",
        "\r\n",
        "# Adding a second LSTM layer and some Dropout regularisation\r\n",
        "regressor.add(LSTM(units = 50, return_sequences = True))\r\n",
        "regressor.add(Dropout(0.2))\r\n",
        "\r\n",
        "# Adding a third LSTM layer and some Dropout regularisation\r\n",
        "regressor.add(LSTM(units = 50, return_sequences = True))\r\n",
        "regressor.add(Dropout(0.2))\r\n",
        "\r\n",
        "# Adding a fourth LSTM layer and some Dropout regularisation\r\n",
        "regressor.add(LSTM(units = 50))\r\n",
        "regressor.add(Dropout(0.2))\r\n",
        "\r\n",
        "# Adding the output layer\r\n",
        "regressor.add(Dense(units = 1))"
      ],
      "execution_count": 34,
      "outputs": []
    },
    {
      "cell_type": "code",
      "metadata": {
        "colab": {
          "base_uri": "https://localhost:8080/"
        },
        "id": "fhl0NJOyEYK0",
        "outputId": "60203cdc-8b48-4072-8ae9-cac972d7e7f9"
      },
      "source": [
        "# Compiling the RNN\r\n",
        "regressor.compile(optimizer = 'adam', loss = 'mean_squared_error')\r\n",
        "\r\n",
        "# Fitting the RNN to the Training set\r\n",
        "regressor.fit(X_train, y_train, epochs = 100, batch_size = 32)"
      ],
      "execution_count": 35,
      "outputs": [
        {
          "output_type": "stream",
          "text": [
            "Epoch 1/100\n",
            "81/81 [==============================] - 14s 107ms/step - loss: 0.0080\n",
            "Epoch 2/100\n",
            "81/81 [==============================] - 9s 110ms/step - loss: 0.0010\n",
            "Epoch 3/100\n",
            "81/81 [==============================] - 9s 111ms/step - loss: 0.0011\n",
            "Epoch 4/100\n",
            "81/81 [==============================] - 9s 109ms/step - loss: 0.0010\n",
            "Epoch 5/100\n",
            "81/81 [==============================] - 9s 111ms/step - loss: 8.8163e-04\n",
            "Epoch 6/100\n",
            "81/81 [==============================] - 9s 110ms/step - loss: 9.5068e-04\n",
            "Epoch 7/100\n",
            "81/81 [==============================] - 9s 110ms/step - loss: 8.1103e-04\n",
            "Epoch 8/100\n",
            "81/81 [==============================] - 9s 111ms/step - loss: 7.0991e-04\n",
            "Epoch 9/100\n",
            "81/81 [==============================] - 9s 112ms/step - loss: 6.1227e-04\n",
            "Epoch 10/100\n",
            "81/81 [==============================] - 9s 110ms/step - loss: 6.0943e-04\n",
            "Epoch 11/100\n",
            "81/81 [==============================] - 9s 111ms/step - loss: 6.3083e-04\n",
            "Epoch 12/100\n",
            "81/81 [==============================] - 9s 112ms/step - loss: 6.9423e-04\n",
            "Epoch 13/100\n",
            "81/81 [==============================] - 9s 112ms/step - loss: 7.3099e-04\n",
            "Epoch 14/100\n",
            "81/81 [==============================] - 9s 112ms/step - loss: 6.4922e-04\n",
            "Epoch 15/100\n",
            "81/81 [==============================] - 9s 113ms/step - loss: 5.3083e-04\n",
            "Epoch 16/100\n",
            "81/81 [==============================] - 9s 112ms/step - loss: 5.8603e-04\n",
            "Epoch 17/100\n",
            "81/81 [==============================] - 9s 112ms/step - loss: 4.4424e-04\n",
            "Epoch 18/100\n",
            "81/81 [==============================] - 9s 112ms/step - loss: 6.6361e-04\n",
            "Epoch 19/100\n",
            "81/81 [==============================] - 9s 112ms/step - loss: 4.4620e-04\n",
            "Epoch 20/100\n",
            "81/81 [==============================] - 9s 114ms/step - loss: 4.6698e-04\n",
            "Epoch 21/100\n",
            "81/81 [==============================] - 9s 117ms/step - loss: 5.5172e-04\n",
            "Epoch 22/100\n",
            "81/81 [==============================] - 9s 114ms/step - loss: 4.1016e-04\n",
            "Epoch 23/100\n",
            "81/81 [==============================] - 9s 113ms/step - loss: 5.8609e-04\n",
            "Epoch 24/100\n",
            "81/81 [==============================] - 9s 113ms/step - loss: 3.8343e-04\n",
            "Epoch 25/100\n",
            "81/81 [==============================] - 9s 114ms/step - loss: 5.2680e-04\n",
            "Epoch 26/100\n",
            "81/81 [==============================] - 9s 116ms/step - loss: 4.6374e-04\n",
            "Epoch 27/100\n",
            "81/81 [==============================] - 10s 118ms/step - loss: 4.9309e-04\n",
            "Epoch 28/100\n",
            "81/81 [==============================] - 9s 115ms/step - loss: 4.0173e-04\n",
            "Epoch 29/100\n",
            "81/81 [==============================] - 9s 114ms/step - loss: 3.0820e-04\n",
            "Epoch 30/100\n",
            "81/81 [==============================] - 9s 115ms/step - loss: 3.6623e-04\n",
            "Epoch 31/100\n",
            "81/81 [==============================] - 9s 114ms/step - loss: 5.4193e-04\n",
            "Epoch 32/100\n",
            "81/81 [==============================] - 9s 115ms/step - loss: 4.8029e-04\n",
            "Epoch 33/100\n",
            "81/81 [==============================] - 9s 115ms/step - loss: 3.8182e-04\n",
            "Epoch 34/100\n",
            "81/81 [==============================] - 9s 115ms/step - loss: 2.9561e-04\n",
            "Epoch 35/100\n",
            "81/81 [==============================] - 9s 113ms/step - loss: 4.2999e-04\n",
            "Epoch 36/100\n",
            "81/81 [==============================] - 9s 113ms/step - loss: 5.4567e-04\n",
            "Epoch 37/100\n",
            "81/81 [==============================] - 9s 113ms/step - loss: 5.3565e-04\n",
            "Epoch 38/100\n",
            "81/81 [==============================] - 9s 113ms/step - loss: 3.5519e-04\n",
            "Epoch 39/100\n",
            "81/81 [==============================] - 9s 113ms/step - loss: 4.3360e-04\n",
            "Epoch 40/100\n",
            "81/81 [==============================] - 9s 112ms/step - loss: 4.1508e-04\n",
            "Epoch 41/100\n",
            "81/81 [==============================] - 9s 114ms/step - loss: 4.0578e-04\n",
            "Epoch 42/100\n",
            "81/81 [==============================] - 9s 113ms/step - loss: 4.6993e-04\n",
            "Epoch 43/100\n",
            "81/81 [==============================] - 9s 113ms/step - loss: 3.9575e-04\n",
            "Epoch 44/100\n",
            "81/81 [==============================] - 9s 113ms/step - loss: 4.8680e-04\n",
            "Epoch 45/100\n",
            "81/81 [==============================] - 9s 112ms/step - loss: 5.8976e-04\n",
            "Epoch 46/100\n",
            "81/81 [==============================] - 9s 114ms/step - loss: 4.5948e-04\n",
            "Epoch 47/100\n",
            "81/81 [==============================] - 9s 113ms/step - loss: 4.9741e-04\n",
            "Epoch 48/100\n",
            "81/81 [==============================] - 9s 114ms/step - loss: 4.2472e-04\n",
            "Epoch 49/100\n",
            "81/81 [==============================] - 9s 114ms/step - loss: 3.5842e-04\n",
            "Epoch 50/100\n",
            "81/81 [==============================] - 9s 113ms/step - loss: 7.8334e-04\n",
            "Epoch 51/100\n",
            "81/81 [==============================] - 9s 115ms/step - loss: 5.2499e-04\n",
            "Epoch 52/100\n",
            "81/81 [==============================] - 9s 115ms/step - loss: 4.4340e-04\n",
            "Epoch 53/100\n",
            "81/81 [==============================] - 9s 115ms/step - loss: 3.8905e-04\n",
            "Epoch 54/100\n",
            "81/81 [==============================] - 10s 119ms/step - loss: 3.5372e-04\n",
            "Epoch 55/100\n",
            "81/81 [==============================] - 9s 114ms/step - loss: 4.1681e-04\n",
            "Epoch 56/100\n",
            "81/81 [==============================] - 9s 116ms/step - loss: 3.9839e-04\n",
            "Epoch 57/100\n",
            "81/81 [==============================] - 9s 114ms/step - loss: 3.5322e-04\n",
            "Epoch 58/100\n",
            "81/81 [==============================] - 9s 114ms/step - loss: 3.1403e-04\n",
            "Epoch 59/100\n",
            "81/81 [==============================] - 9s 115ms/step - loss: 3.8597e-04\n",
            "Epoch 60/100\n",
            "81/81 [==============================] - 9s 116ms/step - loss: 3.0941e-04\n",
            "Epoch 61/100\n",
            "81/81 [==============================] - 9s 117ms/step - loss: 3.9573e-04\n",
            "Epoch 62/100\n",
            "81/81 [==============================] - 9s 114ms/step - loss: 4.1337e-04\n",
            "Epoch 63/100\n",
            "81/81 [==============================] - 9s 114ms/step - loss: 2.6568e-04\n",
            "Epoch 64/100\n",
            "81/81 [==============================] - 9s 114ms/step - loss: 3.0744e-04\n",
            "Epoch 65/100\n",
            "81/81 [==============================] - 9s 114ms/step - loss: 4.2711e-04\n",
            "Epoch 66/100\n",
            "81/81 [==============================] - 9s 115ms/step - loss: 2.8654e-04\n",
            "Epoch 67/100\n",
            "81/81 [==============================] - 9s 114ms/step - loss: 3.5842e-04\n",
            "Epoch 68/100\n",
            "81/81 [==============================] - 9s 113ms/step - loss: 6.5581e-04\n",
            "Epoch 69/100\n",
            "81/81 [==============================] - 9s 114ms/step - loss: 3.8854e-04\n",
            "Epoch 70/100\n",
            "81/81 [==============================] - 9s 114ms/step - loss: 3.6384e-04\n",
            "Epoch 71/100\n",
            "81/81 [==============================] - 9s 114ms/step - loss: 4.0420e-04\n",
            "Epoch 72/100\n",
            "81/81 [==============================] - 9s 114ms/step - loss: 4.6182e-04\n",
            "Epoch 73/100\n",
            "81/81 [==============================] - 9s 116ms/step - loss: 3.4201e-04\n",
            "Epoch 74/100\n",
            "81/81 [==============================] - 9s 113ms/step - loss: 3.3606e-04\n",
            "Epoch 75/100\n",
            "81/81 [==============================] - 9s 113ms/step - loss: 4.1206e-04\n",
            "Epoch 76/100\n",
            "81/81 [==============================] - 9s 115ms/step - loss: 4.2955e-04\n",
            "Epoch 77/100\n",
            "81/81 [==============================] - 9s 116ms/step - loss: 4.1242e-04\n",
            "Epoch 78/100\n",
            "81/81 [==============================] - 9s 116ms/step - loss: 4.0313e-04\n",
            "Epoch 79/100\n",
            "81/81 [==============================] - 9s 117ms/step - loss: 3.1155e-04\n",
            "Epoch 80/100\n",
            "81/81 [==============================] - 9s 114ms/step - loss: 2.9185e-04\n",
            "Epoch 81/100\n",
            "81/81 [==============================] - 9s 116ms/step - loss: 3.5166e-04\n",
            "Epoch 82/100\n",
            "81/81 [==============================] - 9s 115ms/step - loss: 4.3139e-04\n",
            "Epoch 83/100\n",
            "81/81 [==============================] - 9s 114ms/step - loss: 3.3689e-04\n",
            "Epoch 84/100\n",
            "81/81 [==============================] - 9s 115ms/step - loss: 3.1424e-04\n",
            "Epoch 85/100\n",
            "81/81 [==============================] - 9s 114ms/step - loss: 4.1833e-04\n",
            "Epoch 86/100\n",
            "81/81 [==============================] - 9s 115ms/step - loss: 2.8034e-04\n",
            "Epoch 87/100\n",
            "81/81 [==============================] - 10s 118ms/step - loss: 4.2651e-04\n",
            "Epoch 88/100\n",
            "81/81 [==============================] - 9s 114ms/step - loss: 3.4169e-04\n",
            "Epoch 89/100\n",
            "81/81 [==============================] - 9s 112ms/step - loss: 2.2935e-04\n",
            "Epoch 90/100\n",
            "81/81 [==============================] - 9s 114ms/step - loss: 3.8113e-04\n",
            "Epoch 91/100\n",
            "81/81 [==============================] - 9s 115ms/step - loss: 3.6930e-04\n",
            "Epoch 92/100\n",
            "81/81 [==============================] - 9s 115ms/step - loss: 4.0743e-04\n",
            "Epoch 93/100\n",
            "81/81 [==============================] - 9s 113ms/step - loss: 2.4990e-04\n",
            "Epoch 94/100\n",
            "81/81 [==============================] - 10s 119ms/step - loss: 2.9444e-04\n",
            "Epoch 95/100\n",
            "81/81 [==============================] - 9s 115ms/step - loss: 2.5514e-04\n",
            "Epoch 96/100\n",
            "81/81 [==============================] - 9s 116ms/step - loss: 2.6085e-04\n",
            "Epoch 97/100\n",
            "81/81 [==============================] - 9s 116ms/step - loss: 2.8084e-04\n",
            "Epoch 98/100\n",
            "81/81 [==============================] - 9s 114ms/step - loss: 3.9980e-04\n",
            "Epoch 99/100\n",
            "81/81 [==============================] - 9s 115ms/step - loss: 3.2727e-04\n",
            "Epoch 100/100\n",
            "81/81 [==============================] - 9s 114ms/step - loss: 2.3403e-04\n"
          ],
          "name": "stdout"
        },
        {
          "output_type": "execute_result",
          "data": {
            "text/plain": [
              "<tensorflow.python.keras.callbacks.History at 0x7f7e2d013208>"
            ]
          },
          "metadata": {
            "tags": []
          },
          "execution_count": 35
        }
      ]
    },
    {
      "cell_type": "code",
      "metadata": {
        "id": "UqSKHGnnG3OA"
      },
      "source": [
        "#creating the testing-set\r\n",
        "dataset_test = web.DataReader(ticker,data_source='yahoo',start='2021-01-01', end='2021-01-06')"
      ],
      "execution_count": 38,
      "outputs": []
    },
    {
      "cell_type": "code",
      "metadata": {
        "id": "NLlcjlPYHhJp"
      },
      "source": [
        "test_set=dataset_test['Open']\r\n",
        "test_set=pd.DataFrame(test_set)"
      ],
      "execution_count": 39,
      "outputs": []
    },
    {
      "cell_type": "code",
      "metadata": {
        "colab": {
          "base_uri": "https://localhost:8080/"
        },
        "id": "i5dhZc-dI7rM",
        "outputId": "98f75389-677b-4448-913e-d10f16ee1ccc"
      },
      "source": [
        "test_set.info()"
      ],
      "execution_count": 40,
      "outputs": [
        {
          "output_type": "stream",
          "text": [
            "<class 'pandas.core.frame.DataFrame'>\n",
            "DatetimeIndex: 3 entries, 2021-01-04 to 2021-01-06\n",
            "Data columns (total 1 columns):\n",
            " #   Column  Non-Null Count  Dtype  \n",
            "---  ------  --------------  -----  \n",
            " 0   Open    3 non-null      float64\n",
            "dtypes: float64(1)\n",
            "memory usage: 48.0 bytes\n"
          ],
          "name": "stdout"
        }
      ]
    },
    {
      "cell_type": "code",
      "metadata": {
        "id": "xmib3rS-Hzmh"
      },
      "source": [
        "# Getting the predicted stock price of 2021\r\n",
        "dataset_total = pd.concat((dataset['Open'], dataset_test['Open']), axis = 0)\r\n",
        "inputs = dataset_total[len(dataset_total) - len(dataset_test) - 60:].values\r\n",
        "inputs = inputs.reshape(-1,1)\r\n",
        "inputs = sc.transform(inputs)\r\n",
        "X_test = []\r\n",
        "for i in range(60, 60+len(test_set)):\r\n",
        "    X_test.append(inputs[i-60:i, 0])\r\n",
        "X_test = np.array(X_test)\r\n",
        "X_test = np.reshape(X_test, (X_test.shape[0], X_test.shape[1], 1))\r\n",
        "predicted_stock_price = regressor.predict(X_test)\r\n",
        "predicted_stock_price = sc.inverse_transform(predicted_stock_price)"
      ],
      "execution_count": 41,
      "outputs": []
    },
    {
      "cell_type": "code",
      "metadata": {
        "colab": {
          "base_uri": "https://localhost:8080/"
        },
        "id": "oyFwcnxAH1xf",
        "outputId": "c14c857b-5492-4dcc-b951-6bb6545cb950"
      },
      "source": [
        "predicted_stock_price=pd.DataFrame(predicted_stock_price)\r\n",
        "predicted_stock_price.info()"
      ],
      "execution_count": 42,
      "outputs": [
        {
          "output_type": "stream",
          "text": [
            "<class 'pandas.core.frame.DataFrame'>\n",
            "RangeIndex: 3 entries, 0 to 2\n",
            "Data columns (total 1 columns):\n",
            " #   Column  Non-Null Count  Dtype  \n",
            "---  ------  --------------  -----  \n",
            " 0   0       3 non-null      float32\n",
            "dtypes: float32(1)\n",
            "memory usage: 140.0 bytes\n"
          ],
          "name": "stdout"
        }
      ]
    },
    {
      "cell_type": "code",
      "metadata": {
        "colab": {
          "base_uri": "https://localhost:8080/",
          "height": 313
        },
        "id": "CMG7NnoZH4hV",
        "outputId": "ed70e31f-62f8-49c3-ed83-06a41bbc527b"
      },
      "source": [
        "# Visualising the results\r\n",
        "\r\n",
        "plt.plot(predicted_stock_price, color = 'blue', label = 'Predicted Stock Price')\r\n",
        "plt.title('Stock Price Prediction')\r\n",
        "plt.xlabel('Time')\r\n",
        "plt.ylabel(ticker+' Stock Price')\r\n",
        "plt.legend()\r\n"
      ],
      "execution_count": 44,
      "outputs": [
        {
          "output_type": "execute_result",
          "data": {
            "text/plain": [
              "<matplotlib.legend.Legend at 0x7f7e2af64908>"
            ]
          },
          "metadata": {
            "tags": []
          },
          "execution_count": 44
        },
        {
          "output_type": "display_data",
          "data": {
            "image/png": "[encoded data removed]",
            "text/plain": [
              "<Figure size 432x288 with 1 Axes>"
            ]
          },
          "metadata": {
            "tags": [],
            "needs_background": "light"
          }
        }
      ]
    }
  ]
}